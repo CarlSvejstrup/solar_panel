{
 "cells": [
  {
   "cell_type": "markdown",
   "metadata": {},
   "source": [
    "$$<u_s,u_p> = cos(\\phi_p) \\cdot sin(\\theta_p) \\cdot cos(\\phi_s) \\cdot sin(\\theta_s) + sin(\\phi_p) \\cdot sin(\\theta_p) \\cdot sin(\\phi_s) \\cdot sin(\\theta_s) + cos(\\theta_p) \\cdot cos(\\theta_s)$$\n",
    "\n",
    "$$<u_s,u_p> = -sin(\\theta_p) \\cdot sin(\\theta_s) \\cdot(cos(\\phi_p) \\cdot cos(\\phi_s) + sin(\\phi_p) \\cdot sin(\\phi_s)) + cos(\\theta_p) \\cdot -cos(\\theta_s)$$\n",
    "\n",
    "Vi bruge formlen: $cos( α - β ) = cos (α)\\cdot cos (β) + sin (α)\\cdot sin (β)$\n",
    "\n",
    "$$<u_s,u_p> = -(sin(\\theta_p) \\cdot sin(\\theta_s) \\cdot cos(\\phi_p - \\phi_s) + cos(\\theta_p) \\cdot cos(\\theta_s))$$"
   ]
  },
  {
   "cell_type": "code",
   "execution_count": null,
   "metadata": {},
   "outputs": [],
   "source": []
  }
 ],
 "metadata": {
  "language_info": {
   "name": "python"
  }
 },
 "nbformat": 4,
 "nbformat_minor": 2
}
