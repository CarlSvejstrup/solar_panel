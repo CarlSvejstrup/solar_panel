{
 "cells": [
  {
   "cell_type": "markdown",
   "metadata": {},
   "source": [
    "$$<u_s,u_p> = cos(\\phi_p) \\cdot sin(\\theta_p) \\cdot cos(\\phi_s) \\cdot sin(\\theta_s) + sin(\\phi_p) \\cdot sin(\\theta_p) \\cdot sin(\\phi_s) \\cdot sin(\\theta_s) + cos(\\theta_p) \\cdot cos(\\theta_s)$$\n",
    "\n",
    "$$<u_s,u_p> = sin(\\theta_p) \\cdot sin(\\theta_s) \\cdot(cos(\\phi_p) \\cdot cos(\\phi_s) + sin(\\phi_p) \\cdot sin(\\phi_s)) + cos(\\theta_p) \\cdot cos(\\theta_s)$$\n",
    "\n",
    "Vi bruge formlen: $cos( α - β ) = cos (α)\\cdot cos (β) + sin (α)\\cdot sin (β)$\n",
    "\n",
    "$$<u_s,u_p> = sin(\\theta_p) \\cdot sin(\\theta_s) \\cdot cos(\\phi_p - \\phi_s) + cos(\\theta_p) \\cdot cos(\\theta_s)$$"
   ]
  },
  {
   "cell_type": "code",
   "execution_count": 5,
   "metadata": {},
   "outputs": [
    {
     "data": {
      "text/plain": [
       "[-0.906393700432281, 0.906393700432281]"
      ]
     },
     "execution_count": 5,
     "metadata": {},
     "output_type": "execute_result"
    }
   ],
   "source": [
    "import sympy as sp\n",
    "r = sp.symbols(\"r\")\n",
    "l = 2.278\n",
    "b = 1.133\n",
    "eq = sp.Eq(l*b, (4*sp.pi*r**2)/4)\n",
    "sp.solve(eq, r)"
   ]
  }
 ],
 "metadata": {
  "kernelspec": {
   "display_name": "mat_1",
   "language": "python",
   "name": "python3"
  },
  "language_info": {
   "codemirror_mode": {
    "name": "ipython",
    "version": 3
   },
   "file_extension": ".py",
   "mimetype": "text/x-python",
   "name": "python",
   "nbconvert_exporter": "python",
   "pygments_lexer": "ipython3",
   "version": "3.11.7"
  }
 },
 "nbformat": 4,
 "nbformat_minor": 2
}
