{
 "cells": [
  {
   "cell_type": "code",
   "execution_count": 15,
   "metadata": {},
   "outputs": [],
   "source": [
    "from dtumathtools import *\n",
    "from sympy import *\n",
    "init_printing()"
   ]
  },
  {
   "cell_type": "markdown",
   "metadata": {},
   "source": [
    "Link: https://www.enfsolar.com/pv/panel-datasheet/crystalline/46366\n",
    "\n",
    "--------\n",
    "Type: SR-72M545HLPRO\n",
    "Size: 227.8 cm x 113.3 cm x 3.5 cm\n",
    "Cell size: 18.2 cm x 18.2 cm\n",
    "\n",
    "--------\n",
    "\n",
    "STC:\n",
    "Standard Test Conditions (STC): Air mass AM 1.5, irradiance 1000W/m2, cell temperature 25°C\n",
    "(Air Mass coefficient represents the proportion of atmosphere that the light must pass through before hitting Earth relative to the direct vertical path. If the sun is directly overhead, the Air Mass is 1.)"
   ]
  },
  {
   "cell_type": "code",
   "execution_count": 25,
   "metadata": {},
   "outputs": [
    {
     "data": {
      "image/png": "[encoded data removed]",
      "text/latex": [
       "$\\displaystyle \\left( 232.28, \\  2158.2, \\  0.5995, \\  0.23\\right)$"
      ],
      "text/plain": [
       "(232.28, 2158.2, 0.5995, 0.23)"
      ]
     },
     "execution_count": 25,
     "metadata": {},
     "output_type": "execute_result"
    }
   ],
   "source": [
    "# Size\n",
    "L = 2.278\n",
    "B = 1.133\n",
    "panel_area = L * B\n",
    "\n",
    "# Maximum Power, Pmax. Then ajusted to 1100 W/m2 irradiance assuming linear relationship on a smaller interval\n",
    "Wp_STC = 545\n",
    "Wp_STC_ajusted = Wp_STC * (1100 / 1000)\n",
    "\n",
    "# Effect per area\n",
    "Wp_LB = Wp_STC_ajusted / panel_area\n",
    "\n",
    "# J and kWh per hour\n",
    "kJ_per_hour = (Wp_STC_ajusted * 60 ** 2) / 1000\n",
    "kWh = Wp_STC_ajusted / 1000\n",
    "\n",
    "# kWh per m^2\n",
    "energy_density = kWh / panel_area\n",
    "\n",
    "round(Wp_LB,2), kJ_per_hour, kWh, round(energy_density,2)"
   ]
  }
 ],
 "metadata": {
  "kernelspec": {
   "display_name": "MachineLearning",
   "language": "python",
   "name": "python3"
  },
  "language_info": {
   "codemirror_mode": {
    "name": "ipython",
    "version": 3
   },
   "file_extension": ".py",
   "mimetype": "text/x-python",
   "name": "python",
   "nbconvert_exporter": "python",
   "pygments_lexer": "ipython3",
   "version": "3.11.5"
  }
 },
 "nbformat": 4,
 "nbformat_minor": 2
}
